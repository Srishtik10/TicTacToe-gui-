{
 "cells": [
  {
   "cell_type": "code",
   "execution_count": 5,
   "id": "79a043b9-1384-40a3-a95d-425159156f06",
   "metadata": {},
   "outputs": [],
   "source": [
    "import tkinter as tk\n",
    "from tkinter import messagebox\n",
    "\n",
    "class TicTacToe:\n",
    "    def __init__(self, root):\n",
    "        self.root = root\n",
    "        self.root.title(\"Tic-Tac-Toe\")\n",
    "        self.board = [None] * 9\n",
    "        self.current_player = \"X\"\n",
    "        self.buttons = []\n",
    "        self.create_board()\n",
    "    \n",
    "    def create_board(self):\n",
    "        \"\"\"\n",
    "        Create the 3x3 grid for the Tic-Tac-Toe game.\n",
    "        \"\"\"\n",
    "        for i in range(9):\n",
    "            button = tk.Button(\n",
    "                self.root, text=\"\", font=(\"Arial\", 20), height=2, width=5,\n",
    "                command=lambda idx=i: self.make_move(idx)\n",
    "            )\n",
    "            button.grid(row=i // 3, column=i % 3)\n",
    "            self.buttons.append(button)\n",
    "    \n",
    "    def make_move(self, index):\n",
    "        \"\"\"\n",
    "        Handle a player's move.\n",
    "        \"\"\"\n",
    "        if self.board[index] is None:\n",
    "            self.board[index] = self.current_player\n",
    "            self.buttons[index].config(text=self.current_player)\n",
    "            \n",
    "            if self.check_winner():\n",
    "                messagebox.showinfo(\"Game Over\", f\"Player {self.current_player} wins!\")\n",
    "                self.reset_game()\n",
    "            elif None not in self.board:\n",
    "                messagebox.showinfo(\"Game Over\", \"It's a tie!\")\n",
    "                self.reset_game()\n",
    "            else:\n",
    "                self.current_player = \"O\" if self.current_player == \"X\" else \"X\"\n",
    "    \n",
    "    def check_winner(self):\n",
    "        \"\"\"\n",
    "        Check if the current player has won.\n",
    "        \"\"\"\n",
    "        win_patterns = [\n",
    "            (0, 1, 2), (3, 4, 5), (6, 7, 8),  # rows\n",
    "            (0, 3, 6), (1, 4, 7), (2, 5, 8),  # columns\n",
    "            (0, 4, 8), (2, 4, 6)             # diagonals\n",
    "        ]\n",
    "        for pattern in win_patterns:\n",
    "            if self.board[pattern[0]] == self.board[pattern[1]] == self.board[pattern[2]] == self.current_player:\n",
    "                return True\n",
    "        return False\n",
    "    \n",
    "    def reset_game(self):\n",
    "        \"\"\"\n",
    "        Reset the game board.\n",
    "        \"\"\"\n",
    "        self.board = [None] * 9\n",
    "        for button in self.buttons:\n",
    "            button.config(text=\"\")\n",
    "        self.current_player = \"X\"\n"
   ]
  },
  {
   "cell_type": "code",
   "execution_count": 7,
   "id": "7fc333ce-2ea0-44c7-8480-199a184c8148",
   "metadata": {},
   "outputs": [],
   "source": [
    "if __name__ == \"__main__\":\n",
    "    root = tk.Tk()\n",
    "    game = TicTacToe(root)\n",
    "    root.mainloop()"
   ]
  },
  {
   "cell_type": "code",
   "execution_count": null,
   "id": "e7305da3-2853-42bd-9f85-2abb10849e4f",
   "metadata": {},
   "outputs": [],
   "source": []
  }
 ],
 "metadata": {
  "kernelspec": {
   "display_name": "Python 3 (ipykernel)",
   "language": "python",
   "name": "python3"
  },
  "language_info": {
   "codemirror_mode": {
    "name": "ipython",
    "version": 3
   },
   "file_extension": ".py",
   "mimetype": "text/x-python",
   "name": "python",
   "nbconvert_exporter": "python",
   "pygments_lexer": "ipython3",
   "version": "3.11.7"
  }
 },
 "nbformat": 4,
 "nbformat_minor": 5
}
